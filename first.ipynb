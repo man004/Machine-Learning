{
 "cells": [
  {
   "cell_type": "code",
   "execution_count": 1,
   "metadata": {},
   "outputs": [
    {
     "data": {
      "text/plain": [
       "10"
      ]
     },
     "execution_count": 1,
     "metadata": {},
     "output_type": "execute_result"
    }
   ],
   "source": [
    "5+5"
   ]
  },
  {
   "cell_type": "code",
   "execution_count": 3,
   "metadata": {},
   "outputs": [
    {
     "data": {
      "text/plain": [
       "2.5"
      ]
     },
     "execution_count": 3,
     "metadata": {},
     "output_type": "execute_result"
    }
   ],
   "source": [
    "5/2"
   ]
  },
  {
   "cell_type": "code",
   "execution_count": 4,
   "metadata": {},
   "outputs": [
    {
     "data": {
      "text/plain": [
       "array([0, 1, 2, 3, 4, 5, 6, 7, 8, 9])"
      ]
     },
     "execution_count": 4,
     "metadata": {},
     "output_type": "execute_result"
    }
   ],
   "source": [
    "import numpy as n\n",
    "n.arange(10)"
   ]
  },
  {
   "cell_type": "code",
   "execution_count": 5,
   "metadata": {},
   "outputs": [
    {
     "data": {
      "text/plain": [
       "'\\nthis is multi line comment \\n'"
      ]
     },
     "execution_count": 5,
     "metadata": {},
     "output_type": "execute_result"
    }
   ],
   "source": [
    "#THIS IS single line comment \n",
    "\"\"\"\n",
    "this is multi line comment \n",
    "\"\"\""
   ]
  },
  {
   "cell_type": "code",
   "execution_count": 6,
   "metadata": {},
   "outputs": [
    {
     "name": "stdout",
     "output_type": "stream",
     "text": [
      "h\n"
     ]
    }
   ],
   "source": [
    "print('hello'[0])"
   ]
  },
  {
   "cell_type": "code",
   "execution_count": 7,
   "metadata": {},
   "outputs": [
    {
     "name": "stdout",
     "output_type": "stream",
     "text": [
      "hell\n"
     ]
    }
   ],
   "source": [
    "print('hello'[0:4])"
   ]
  },
  {
   "cell_type": "code",
   "execution_count": 8,
   "metadata": {},
   "outputs": [
    {
     "name": "stdout",
     "output_type": "stream",
     "text": [
      "manivarsha\n",
      "mani\"varsha\n"
     ]
    }
   ],
   "source": [
    "print('manivarsha')\n",
    "print(\"mani\\\"varsha\")"
   ]
  },
  {
   "cell_type": "code",
   "execution_count": 10,
   "metadata": {},
   "outputs": [
    {
     "name": "stdout",
     "output_type": "stream",
     "text": [
      "mani \"varsha\" \"reddy\"\n"
     ]
    }
   ],
   "source": [
    "print(\"mani \\\"varsha\\\" \\\"reddy\\\"\")"
   ]
  },
  {
   "cell_type": "code",
   "execution_count": 12,
   "metadata": {},
   "outputs": [
    {
     "name": "stdout",
     "output_type": "stream",
     "text": [
      "varsha\n"
     ]
    }
   ],
   "source": [
    "myint=23\n",
    "myfloat=4.56\n",
    "myname='varsha'\n",
    "print(myname)\n",
    "mynewlist=[1,'chinni',2,\"varsha\"]\n",
    "mynewdic={'1':1,'2':3,'4':2}"
   ]
  },
  {
   "cell_type": "code",
   "execution_count": 14,
   "metadata": {},
   "outputs": [
    {
     "name": "stdout",
     "output_type": "stream",
     "text": [
      "<class 'dict'> {'1': 1, '2': 3, '4': 2}\n",
      "<class 'list'>\n"
     ]
    }
   ],
   "source": [
    "print(type(mynewdic),mynewdic)\n",
    "print(type(mynewlist))"
   ]
  },
  {
   "cell_type": "code",
   "execution_count": 15,
   "metadata": {},
   "outputs": [
    {
     "name": "stdout",
     "output_type": "stream",
     "text": [
      "gooooo..d\n"
     ]
    }
   ],
   "source": [
    "x=100\n",
    "if x==100:\n",
    "    print(\"gooooo..d\")"
   ]
  },
  {
   "cell_type": "code",
   "execution_count": 17,
   "metadata": {},
   "outputs": [
    {
     "name": "stdout",
     "output_type": "stream",
     "text": [
      "[1, 'chinni', 2, 'varsha']\n",
      "names are ... 1\n",
      "names are ... chinni\n",
      "names are ... 2\n",
      "names are ... varsha\n",
      "oooooR\n",
      "names are .. 1\n",
      "names are .. chinni\n",
      "names are .. 2\n",
      "names are .. varsha\n"
     ]
    }
   ],
   "source": [
    "print(mynewlist)\n",
    "for i in mynewlist:\n",
    "    print(\"names are ...\",i)\n",
    "    \n",
    "print(\"oooooR\")   \n",
    "\n",
    "for j in range(len(mynewlist)):\n",
    "    print(\"names are ..\",mynewlist[j])\n",
    "    "
   ]
  },
  {
   "cell_type": "code",
   "execution_count": 1,
   "metadata": {},
   "outputs": [
    {
     "name": "stdout",
     "output_type": "stream",
     "text": [
      "given name is ,, mani\n",
      "mami\n"
     ]
    }
   ],
   "source": [
    "def varsha(name):\n",
    "    print(\"given name is ,,\",name)\n",
    "    print(name.replace('n','m'))\n",
    "varsha('mani')    "
   ]
  },
  {
   "cell_type": "code",
   "execution_count": 2,
   "metadata": {},
   "outputs": [
    {
     "name": "stdout",
     "output_type": "stream",
     "text": [
      "file name is .. text.txt\n",
      "file mode is.. w\n",
      "file close ..?.. False\n"
     ]
    }
   ],
   "source": [
    "fo=open(\"text.txt\",\"w\")\n",
    "print(\"file name is ..\",fo.name)\n",
    "print(\"file mode is..\",fo.mode)\n",
    "print(\"file close ..?..\",fo.closed)"
   ]
  },
  {
   "cell_type": "code",
   "execution_count": 6,
   "metadata": {},
   "outputs": [],
   "source": [
    "fo=open(\"text.txt\",\"w\")\n",
    "fo.write(\"this is text.txt\")\n",
    "#f=fo.read()\n",
    "#print(f)\n",
    "fo.close()"
   ]
  },
  {
   "cell_type": "code",
   "execution_count": 7,
   "metadata": {},
   "outputs": [
    {
     "data": {
      "text/plain": [
       "'this is text.txt'"
      ]
     },
     "execution_count": 7,
     "metadata": {},
     "output_type": "execute_result"
    }
   ],
   "source": [
    "fo=open(\"text.txt\",\"r\")\n",
    "fo.read()"
   ]
  },
  {
   "cell_type": "code",
   "execution_count": 13,
   "metadata": {},
   "outputs": [
    {
     "name": "stdout",
     "output_type": "stream",
     "text": [
      "varsha\n"
     ]
    },
    {
     "data": {
      "text/plain": [
       "20"
      ]
     },
     "execution_count": 13,
     "metadata": {},
     "output_type": "execute_result"
    }
   ],
   "source": [
    "#  classes in python\n",
    "class Cls:\n",
    "    __name=''\n",
    "    __age=''\n",
    "    __email=''\n",
    "    def sets(self,setname):\n",
    "        self.__name=setname\n",
    "    def gets(self):\n",
    "        return self.__name\n",
    "    def seta(self,setage):\n",
    "        self.__age=setage\n",
    "    def geta(self):\n",
    "        return self.__age\n",
    " #  make use of class objects to access methods\n",
    "\n",
    "o=Cls()\n",
    "o.sets('varsha')\n",
    "print(o.gets())\n",
    "o.seta(20)\n",
    "o.geta()"
   ]
  },
  {
   "cell_type": "code",
   "execution_count": 6,
   "metadata": {},
   "outputs": [
    {
     "name": "stdout",
     "output_type": "stream",
     "text": [
      "20\n",
      "mani\n",
      "mani is of age 20\n"
     ]
    }
   ],
   "source": [
    "# OR MAKE USE OF CONSTRUCTOR TO INSTANTIATE VARIABLES\n",
    "\n",
    "class Cls:\n",
    "    __name=''\n",
    "    __age=''\n",
    "    __email=''\n",
    "    \n",
    "#    CONSTRUCTOR    \n",
    "    def __init__(self,name,age):\n",
    "        self.__name=name\n",
    "        self.__age=age\n",
    "    def sets(self,sname):\n",
    "        self.__name=sname\n",
    "    def gets(self):\n",
    "        return self.__name\n",
    "    def seta(self,sage):\n",
    "        self.__age=sage\n",
    "    def geta(self):\n",
    "        return self.__age\n",
    "    \n",
    "#  FORMARING\n",
    "    def converttoString(self):\n",
    "        return '{} is of age {}'.format(self.__name,self.__age)\n",
    "      \n",
    "\n",
    "    \n",
    "o=Cls('mani','20')\n",
    "print(o.geta())\n",
    "print(o.gets())\n",
    "print(o.converttoString())"
   ]
  },
  {
   "cell_type": "code",
   "execution_count": 20,
   "metadata": {},
   "outputs": [
    {
     "name": "stdout",
     "output_type": "stream",
     "text": [
      "varsha has balance of 200 and she is of age 20\n"
     ]
    }
   ],
   "source": [
    "#   INHERITANCE \n",
    "\n",
    "class Cls:\n",
    "    __name=''\n",
    "    __age=''\n",
    "    __email=''\n",
    "    def __init__(self,name,age):\n",
    "        self.__name=name\n",
    "        self.__age=age\n",
    "    def sets(self,sname):\n",
    "        self.__name=sname\n",
    "    def gets(self):\n",
    "        return self.__name\n",
    "    def seta(self,sage):\n",
    "        self.__age=sage\n",
    "    def geta(self):\n",
    "        return self.__age\n",
    "    def converttoString(self):\n",
    "        return '{} is of age {}'.format(self.__name,self.__age)\n",
    "      \n",
    "\n",
    "class Pls(Cls):\n",
    "    __balance=''\n",
    "    def __init__(self,name,age,balance):\n",
    "        self.__name=name\n",
    "        self.__age=age\n",
    "        self.__balnce=balance\n",
    "        super(Pls,self).__init__(name,age)\n",
    "    def setb(self,sbalance):\n",
    "        self.__balance=sbalance\n",
    "    def getb(self):\n",
    "        return self.__balance\n",
    "    def converttoString(self):\n",
    "        return '{} has balance of {} and she is of age {}'.format(self.__name,self.__balance,self.__age)\n",
    "      \n",
    "\n",
    "        \n",
    "o=Pls('varsha',20,10000)\n",
    "#o.sets('varsha')\n",
    "#o.seta(20)\n",
    "o.setb(200)\n",
    "print(o.converttoString())"
   ]
  },
  {
   "cell_type": "code",
   "execution_count": null,
   "metadata": {},
   "outputs": [],
   "source": []
  }
 ],
 "metadata": {
  "kernelspec": {
   "display_name": "Python 3",
   "language": "python",
   "name": "python3"
  },
  "language_info": {
   "codemirror_mode": {
    "name": "ipython",
    "version": 3
   },
   "file_extension": ".py",
   "mimetype": "text/x-python",
   "name": "python",
   "nbconvert_exporter": "python",
   "pygments_lexer": "ipython3",
   "version": "3.6.5"
  }
 },
 "nbformat": 4,
 "nbformat_minor": 2
}
